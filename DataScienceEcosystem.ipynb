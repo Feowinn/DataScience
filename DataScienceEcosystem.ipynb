{
 "cells": [
  {
   "cell_type": "markdown",
   "id": "078bf38a-1156-43da-8f2e-f9b6f09d45ca",
   "metadata": {},
   "source": [
    "# Data Science Tools and Ecosystem"
   ]
  },
  {
   "cell_type": "markdown",
   "id": "fc07b737",
   "metadata": {},
   "source": [
    "## Author: \n",
    "Nicole Burkard"
   ]
  },
  {
   "cell_type": "markdown",
   "id": "750c903d-06ee-474a-9184-3f4b53902128",
   "metadata": {},
   "source": [
    "In this notebook, Data Science Tools and Ecosystem are summarized."
   ]
  },
  {
   "cell_type": "markdown",
   "id": "cdd75319",
   "metadata": {},
   "source": [
    "**Objectives**:\n",
    "- List popular languages for Data Science\n",
    "- List commonly used libraries for Data Science\n",
    "- List Tools for Data Science"
   ]
  },
  {
   "cell_type": "markdown",
   "id": "4304097f",
   "metadata": {},
   "source": [
    "Some of the popular languages that Data Scientists use are:\n",
    "1. Python\n",
    "2. R\n",
    "3. Julia"
   ]
  },
  {
   "cell_type": "markdown",
   "id": "964623a8",
   "metadata": {},
   "source": [
    "Some of the commonly used libraries used by Data Scientists include:\n",
    "1. seaborn (Python Vis)\n",
    "2. ggplot (R Vis)\n",
    "3. pandas (Python Analysis)"
   ]
  },
  {
   "cell_type": "markdown",
   "id": "feaee156",
   "metadata": {},
   "source": [
    "| Data Science Tools (open source, dev environment)|\n",
    "| --- |\n",
    "| Visual Studio Code |\n",
    "| RStudio |\n",
    "| Spyder |\n",
    "\n"
   ]
  },
  {
   "cell_type": "markdown",
   "id": "7b1f5077",
   "metadata": {},
   "source": [
    "Below are a few examples of evaluation arithmetic expressions in Python"
   ]
  },
  {
   "cell_type": "code",
   "execution_count": 4,
   "id": "341d2e77",
   "metadata": {},
   "outputs": [
    {
     "data": {
      "text/plain": [
       "17"
      ]
     },
     "execution_count": 4,
     "metadata": {},
     "output_type": "execute_result"
    }
   ],
   "source": [
    "# this is a simple arithmetic expression which multiplies and then adds an integer\n",
    "(3*4)+5"
   ]
  },
  {
   "cell_type": "code",
   "execution_count": 5,
   "id": "17249b14",
   "metadata": {},
   "outputs": [
    {
     "data": {
      "text/plain": [
       "3.3333333333333335"
      ]
     },
     "execution_count": 5,
     "metadata": {},
     "output_type": "execute_result"
    }
   ],
   "source": [
    "# this will convert 200 minutes into hours by dividing by 60\n",
    "200/60"
   ]
  }
 ],
 "metadata": {
  "kernelspec": {
   "display_name": "datsci",
   "language": "python",
   "name": "python3"
  },
  "language_info": {
   "codemirror_mode": {
    "name": "ipython",
    "version": 3
   },
   "file_extension": ".py",
   "mimetype": "text/x-python",
   "name": "python",
   "nbconvert_exporter": "python",
   "pygments_lexer": "ipython3",
   "version": "3.9.21"
  }
 },
 "nbformat": 4,
 "nbformat_minor": 5
}
